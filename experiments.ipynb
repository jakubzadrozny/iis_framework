{
  "cells": [
    {
      "cell_type": "markdown",
      "source": [
        "# Acquire data and code\n",
        "(change of paths required)"
      ],
      "metadata": {
        "id": "30iG2rWUTF1_"
      }
    },
    {
      "cell_type": "code",
      "execution_count": null,
      "metadata": {
        "colab": {
          "base_uri": "https://localhost:8080/"
        },
        "id": "uAql2u2y-JT2",
        "outputId": "4f745daf-795b-46af-a648-ef94dccb7a05"
      },
      "outputs": [
        {
          "metadata": {
            "tags": null
          },
          "name": "stdout",
          "output_type": "stream",
          "text": [
            "/content\n"
          ]
        }
      ],
      "source": [
        "%cd /content\n",
        "!cp drive/MyDrive/MVA/AerialImageDataset.zip .\n",
        "!cp drive/MyDrive/MVA/coco_lvis_h18_baseline.pth .\n",
        "!unzip -qo AerialImageDataset.zip"
      ]
    },
    {
      "cell_type": "code",
      "execution_count": null,
      "metadata": {
        "colab": {
          "base_uri": "https://localhost:8080/"
        },
        "id": "7pGqitU8BBPp",
        "outputId": "f083e58f-6fda-45eb-caa3-22cbd30642b0"
      },
      "outputs": [
        {
          "output_type": "stream",
          "name": "stdout",
          "text": [
            "\u001b[K     |████████████████████████████████| 21.8 MB 102.0 MB/s \n",
            "\u001b[K     |████████████████████████████████| 102 kB 4.3 MB/s \n",
            "\u001b[?25h"
          ]
        }
      ],
      "source": [
        "!pip install -q -U opencv-python-headless==4.1.2.30\n",
        "!pip install -q -U albumentations==1.1.0"
      ]
    },
    {
      "cell_type": "code",
      "execution_count": null,
      "metadata": {
        "colab": {
          "base_uri": "https://localhost:8080/"
        },
        "id": "IT7ldgS29zBf",
        "outputId": "10caae4c-ee9f-44d7-b1f4-e07587ee5bc5"
      },
      "outputs": [
        {
          "output_type": "stream",
          "name": "stdout",
          "text": [
            "/content\n",
            "rm: cannot remove 'iis_framework': No such file or directory\n",
            "Cloning into 'iis_framework'...\n",
            "remote: Enumerating objects: 232, done.\u001b[K\n",
            "remote: Counting objects: 100% (232/232), done.\u001b[K\n",
            "remote: Compressing objects: 100% (138/138), done.\u001b[K\n",
            "remote: Total 232 (delta 127), reused 186 (delta 81), pack-reused 0\u001b[K\n",
            "Receiving objects: 100% (232/232), 70.09 KiB | 1.95 MiB/s, done.\n",
            "Resolving deltas: 100% (127/127), done.\n",
            "/content/iis_framework\n"
          ]
        }
      ],
      "source": [
        "%cd /content\n",
        "!rm -r iis_framework\n",
        "!git clone https://github.com/jakubzadrozny/iis_framework.git\n",
        "%cd iis_framework"
      ]
    },
    {
      "cell_type": "markdown",
      "source": [
        "# Prepare dataset\n",
        "Cut original 5000x5000 images into smaller (overlapping) tiles"
      ],
      "metadata": {
        "id": "ip56ch0HTYef"
      }
    },
    {
      "cell_type": "code",
      "execution_count": null,
      "metadata": {
        "id": "VangWjdeA3-u"
      },
      "outputs": [],
      "source": [
        "!python cut_images.py"
      ]
    },
    {
      "cell_type": "markdown",
      "source": [
        "# Imports"
      ],
      "metadata": {
        "id": "fvoYUKvjTgIS"
      }
    },
    {
      "cell_type": "code",
      "execution_count": null,
      "metadata": {
        "id": "yCMCA2IhYac_"
      },
      "outputs": [],
      "source": [
        "%load_ext autoreload\n",
        "%autoreload 2"
      ]
    },
    {
      "cell_type": "code",
      "execution_count": null,
      "metadata": {
        "id": "NdLTXL-i-5-o"
      },
      "outputs": [],
      "source": [
        "from functools import partial\n",
        "import numpy as np\n",
        "import torch\n",
        "from torch.optim import Adam\n",
        "from torch.utils.data import DataLoader, Subset\n",
        "import albumentations as A\n",
        "from matplotlib import pyplot as plt\n",
        "\n",
        "from data.datasets.inria_aerial import InriaAerialDataset\n",
        "from data.datasets.coco_lvis import CocoLvisDataset\n",
        "from data.region_selector import random_single, dummy\n",
        "from data.iis_dataset import RegionDataset\n",
        "from data.transformations import RandomCrop\n",
        "from engine.cont_adapt import AdaptLoss, interact\n",
        "from engine.seq_adapt import seq_adapt\n",
        "from models.iis_models.ritm import HRNetISModel\n",
        "from quant_exp import pipeline, main"
      ]
    },
    {
      "cell_type": "markdown",
      "metadata": {
        "id": "i9CXJoyA4vw5"
      },
      "source": [
        "# Instantiate dataset"
      ]
    },
    {
      "cell_type": "code",
      "execution_count": null,
      "metadata": {
        "id": "DkVEb-vr_DGX",
        "colab": {
          "base_uri": "https://localhost:8080/"
        },
        "outputId": "5be783f1-4dbe-4993-be30-44f8edfddcae"
      },
      "outputs": [
        {
          "output_type": "stream",
          "name": "stdout",
          "text": [
            "austin33_0074\n",
            "vienna10_0227\n",
            "chicago2_0142\n",
            "chicago26_0008\n",
            "vienna7_0185\n"
          ]
        }
      ],
      "source": [
        "seg_dataset = InriaAerialDataset(\n",
        "    \"/content/AerialImageDataset/\", \n",
        "    split=\"train_cut\"\n",
        ")\n",
        "region_selector = dummy\n",
        "augmentator = A.Compose([\n",
        "    A.Normalize(),\n",
        "])\n",
        "iis_dataset = RegionDataset(seg_dataset, region_selector, augmentator)\n",
        "\n",
        "# use random subset of images\n",
        "torch.manual_seed(0)\n",
        "pi = torch.randperm(len(iis_dataset))\n",
        "iis_dataset = Subset(iis_dataset, pi)\n",
        "\n",
        "iis_loader = DataLoader(iis_dataset, batch_size=1, num_workers=1, shuffle=False)\n",
        "\n",
        "# check if the same subset is used every time\n",
        "for i in range(5):\n",
        "    print(seg_dataset.dataset_samples[pi[i]])"
      ]
    },
    {
      "cell_type": "markdown",
      "source": [
        "# Define model path, load MAS and uniform weights for param penalty"
      ],
      "metadata": {
        "id": "HtOUAviWTzpf"
      }
    },
    {
      "cell_type": "code",
      "execution_count": null,
      "metadata": {
        "id": "bcxfwDP3BUx7"
      },
      "outputs": [],
      "source": [
        "model_path = '/content/coco_lvis_h18_baseline.pth'\n",
        "omega = torch.load('/content/drive/MyDrive/MVA/satellites/omega_bce.pth')\n",
        "omega_ones = []\n",
        "for i in range(len(omega)):\n",
        "    omega[i] = omega[i].to('cuda')\n",
        "    omega_ones.append(torch.ones_like(omega[i]))\n",
        "\n",
        "_pipeline = partial(pipeline, model_path=model_path, device='cuda', interaction_steps=25)"
      ]
    },
    {
      "cell_type": "markdown",
      "metadata": {
        "id": "ZJwYiiwlR2dv"
      },
      "source": [
        "# Params search"
      ]
    },
    {
      "cell_type": "markdown",
      "source": [
        "## Uniform weights"
      ],
      "metadata": {
        "id": "cVZGwlijT9yf"
      }
    },
    {
      "cell_type": "code",
      "execution_count": null,
      "metadata": {
        "colab": {
          "base_uri": "https://localhost:8080/",
          "height": 903,
          "referenced_widgets": [
            "d5a5f20765de41969c613170a610723e",
            "bc9bcf8d770047faa7ac0f225d428fa3",
            "9b6ba242ae304c0ba213e1df43de6f89",
            "ab1df25915b3473480f1dfb7127d9255",
            "41293db2a3af4f689086f561d29c1336",
            "223f584d526046f59bbaa917dc4d684d",
            "bf08c0def4714845871fad3909a1d087",
            "c2d6a82a5506437aa13b6ee7082ad20a",
            "3bd7f60af10d4ce7b55afbc286c5cc51",
            "f144ea08a31a4b12aad735216a1f2a8b",
            "2a7e5315d69a43f58942a8415dfb249c"
          ]
        },
        "id": "nl47cZhqQ8pc",
        "outputId": "33467ec4-0661-4b4e-a516-b39287700f76"
      },
      "outputs": [
        {
          "output_type": "display_data",
          "data": {
            "text/plain": [
              "  0%|          | 0/30 [00:00<?, ?it/s]"
            ],
            "application/vnd.jupyter.widget-view+json": {
              "version_major": 2,
              "version_minor": 0,
              "model_id": "d5a5f20765de41969c613170a610723e"
            }
          },
          "metadata": {}
        },
        {
          "output_type": "stream",
          "name": "stdout",
          "text": [
            "means\n",
            "{'gamma=1e3': array([0.        , 0.19794156, 0.36292988, 0.40382035, 0.47585803,\n",
            "       0.49455885, 0.51912637, 0.57273005, 0.59533476, 0.62921606,\n",
            "       0.64670215, 0.65777445, 0.67120768, 0.69381838, 0.70121582,\n",
            "       0.72218683, 0.71623041, 0.73310367, 0.74259081, 0.75390227,\n",
            "       0.76553294, 0.76920499, 0.77883349, 0.79098052, 0.79016063,\n",
            "       0.80150524]), 'gamma=1e4': array([0.        , 0.19769071, 0.36586239, 0.38512494, 0.45857474,\n",
            "       0.49995526, 0.51075315, 0.56921881, 0.59569886, 0.62527363,\n",
            "       0.63754839, 0.66093187, 0.67579501, 0.68704705, 0.71046676,\n",
            "       0.7150604 , 0.71624381, 0.74436663, 0.75524682, 0.75536855,\n",
            "       0.75969063, 0.77795061, 0.78440179, 0.79367426, 0.79731391,\n",
            "       0.80524062]), 'gamma=1e5': array([0.        , 0.19760197, 0.35860167, 0.3936779 , 0.47396709,\n",
            "       0.506049  , 0.51404099, 0.57035689, 0.58368965, 0.62531887,\n",
            "       0.64345472, 0.66547745, 0.675913  , 0.68974581, 0.71498014,\n",
            "       0.7201103 , 0.72908683, 0.74319944, 0.74967013, 0.75332782,\n",
            "       0.75888726, 0.7692734 , 0.77413411, 0.78170978, 0.7883016 ,\n",
            "       0.794545  ]), 'gamma=1e6': array([0.        , 0.19706058, 0.36255554, 0.39013195, 0.46551658,\n",
            "       0.48785902, 0.50970018, 0.56674083, 0.59531923, 0.6241147 ,\n",
            "       0.63442397, 0.66434148, 0.67724461, 0.69299897, 0.71281511,\n",
            "       0.72427125, 0.71803092, 0.72940985, 0.75004337, 0.75904717,\n",
            "       0.76198256, 0.77177888, 0.77296515, 0.78305503, 0.78703971,\n",
            "       0.79710289])}\n",
            "area under curve\n",
            "{'gamma=1e3': 15.486742775825164, 'gamma=1e4': 15.483033943797153, 'gamma=1e5': 15.479047322738918, 'gamma=1e6': 15.438467791955919}\n",
            "clicks@iou\n",
            "[0.7, 0.75, 0.8, 0.85, 0.9]\n",
            "[{'gamma=1e3': 13.433333333333334, 'gamma=1e4': 13.3, 'gamma=1e5': 13.366666666666667, 'gamma=1e6': 13.366666666666667}, {'gamma=1e3': 14.966666666666667, 'gamma=1e4': 15.1, 'gamma=1e5': 15.033333333333333, 'gamma=1e6': 15.133333333333333}, {'gamma=1e3': 17.466666666666665, 'gamma=1e4': 17.633333333333333, 'gamma=1e5': 17.733333333333334, 'gamma=1e6': 17.266666666666666}, {'gamma=1e3': 21.033333333333335, 'gamma=1e4': 20.966666666666665, 'gamma=1e5': 20.966666666666665, 'gamma=1e6': 20.933333333333334}, {'gamma=1e3': 22.666666666666668, 'gamma=1e4': 22.533333333333335, 'gamma=1e5': 22.333333333333332, 'gamma=1e6': 22.466666666666665}]\n"
          ]
        },
        {
          "output_type": "display_data",
          "data": {
            "text/plain": [
              "<Figure size 720x432 with 1 Axes>"
            ],
            "image/png": "[encoded data removed]"
          },
          "metadata": {
            "needs_background": "light"
          }
        }
      ],
      "source": [
        "res = main(iis_loader, {\n",
        "    'gamma=1e3': partial(_pipeline, weights=omega_ones, grad_steps=4, gamma=1e3),\n",
        "    'gamma=1e4': partial(_pipeline, weights=omega_ones, grad_steps=4, gamma=1e4),\n",
        "    'gamma=1e5': partial(_pipeline, weights=omega_ones, grad_steps=4, gamma=1e5),\n",
        "    'gamma=1e6': partial(_pipeline, weights=omega_ones, grad_steps=4, gamma=1e6),\n",
        "}, num_batches=30)"
      ]
    },
    {
      "cell_type": "code",
      "execution_count": null,
      "metadata": {
        "id": "YXnuBOkNSCqu",
        "colab": {
          "base_uri": "https://localhost:8080/",
          "height": 903,
          "referenced_widgets": [
            "5be36b4d654d40218a210ed40d9e1c9b",
            "54d02492911946d4bd1837e7b2ee2ab5",
            "3099484a68cf4093af74feeec254be92",
            "6fb51a0e8cae49c198926d09ab970204",
            "ab1b3ff8bcbf4e70be6fccfc6cd58115",
            "30e51490e4e443e7b135b9c71b366f01",
            "a4046aabf8e24298a592882df742e84a",
            "ea408b8966c94765bbb55aca9099bebe",
            "695e807941024e8da1a72cb5add045d4",
            "72859a75dedd40d7baa60917509c1ec9",
            "41bb6e3fe291476ebea85c818cd18cdd"
          ]
        },
        "outputId": "95aa63c2-7975-4ea2-d594-1b2c597ca68f"
      },
      "outputs": [
        {
          "output_type": "display_data",
          "data": {
            "text/plain": [
              "  0%|          | 0/30 [00:00<?, ?it/s]"
            ],
            "application/vnd.jupyter.widget-view+json": {
              "version_major": 2,
              "version_minor": 0,
              "model_id": "5be36b4d654d40218a210ed40d9e1c9b"
            }
          },
          "metadata": {}
        },
        {
          "output_type": "stream",
          "name": "stdout",
          "text": [
            "means\n",
            "{'gamma=1e5,lr=3e-6': array([0.        , 0.22371463, 0.34468162, 0.4357348 , 0.47021803,\n",
            "       0.49453016, 0.54048534, 0.561835  , 0.5924308 , 0.59935834,\n",
            "       0.64212599, 0.67077742, 0.6883049 , 0.69508108, 0.71573535,\n",
            "       0.7192806 , 0.73598729, 0.7419157 , 0.74615638, 0.74599799,\n",
            "       0.76347343, 0.77159118, 0.78286008, 0.78830911, 0.79387791,\n",
            "       0.79892686]), 'gamma=1e5,lr=1e-5': array([0.        , 0.22290019, 0.37707597, 0.40643966, 0.464969  ,\n",
            "       0.51329146, 0.54388172, 0.58163715, 0.61276555, 0.63490607,\n",
            "       0.6616344 , 0.68582551, 0.68919852, 0.70145492, 0.71688219,\n",
            "       0.72125085, 0.7350541 , 0.74310098, 0.74677502, 0.75497155,\n",
            "       0.76918848, 0.76601912, 0.7745727 , 0.78142542, 0.78864236,\n",
            "       0.78381786]), 'gamma=3e5,lr=1e-5': array([0.        , 0.22484897, 0.34807333, 0.399455  , 0.46222403,\n",
            "       0.51828047, 0.55077057, 0.58362231, 0.61025226, 0.63373129,\n",
            "       0.66401481, 0.66679003, 0.68774873, 0.70410563, 0.71500307,\n",
            "       0.71807086, 0.73526303, 0.74851343, 0.7468585 , 0.75740398,\n",
            "       0.76668615, 0.76791548, 0.77417069, 0.77392724, 0.77967233,\n",
            "       0.77761069]), 'gamma=3e5,lr=3e-5': array([0.        , 0.23345755, 0.35945172, 0.40708154, 0.46697756,\n",
            "       0.50853607, 0.53657681, 0.58272526, 0.60470873, 0.61326095,\n",
            "       0.63979285, 0.6597488 , 0.66977812, 0.69225018, 0.67902835,\n",
            "       0.69266793, 0.70630118, 0.72686469, 0.72815842, 0.74009083,\n",
            "       0.74514089, 0.75938249, 0.7662889 , 0.76427143, 0.77095848,\n",
            "       0.77058477])}\n",
            "area under curve\n",
            "{'gamma=1e5,lr=3e-6': 15.552069227211177, 'gamma=1e5,lr=1e-5': 15.674321738506357, 'gamma=3e5,lr=1e-5': 15.613783043560883, 'gamma=3e5,lr=3e-5': 15.32206335120524}\n",
            "clicks@iou\n",
            "[0.7, 0.75, 0.8, 0.85, 0.9]\n",
            "[{'gamma=1e5,lr=3e-6': 13.133333333333333, 'gamma=1e5,lr=1e-5': 13.266666666666667, 'gamma=3e5,lr=1e-5': 13.333333333333334, 'gamma=3e5,lr=3e-5': 13.9}, {'gamma=1e5,lr=3e-6': 14.966666666666667, 'gamma=1e5,lr=1e-5': 15.0, 'gamma=3e5,lr=1e-5': 14.866666666666667, 'gamma=3e5,lr=3e-5': 15.266666666666667}, {'gamma=1e5,lr=3e-6': 17.1, 'gamma=1e5,lr=1e-5': 17.1, 'gamma=3e5,lr=1e-5': 17.3, 'gamma=3e5,lr=3e-5': 17.4}, {'gamma=1e5,lr=3e-6': 20.733333333333334, 'gamma=1e5,lr=1e-5': 19.833333333333332, 'gamma=3e5,lr=1e-5': 20.133333333333333, 'gamma=3e5,lr=3e-5': 20.5}, {'gamma=1e5,lr=3e-6': 21.933333333333334, 'gamma=1e5,lr=1e-5': 22.1, 'gamma=3e5,lr=1e-5': 21.933333333333334, 'gamma=3e5,lr=3e-5': 22.533333333333335}]\n"
          ]
        },
        {
          "output_type": "display_data",
          "data": {
            "text/plain": [
              "<Figure size 720x432 with 1 Axes>"
            ],
            "image/png": "[encoded data removed]"
          },
          "metadata": {
            "needs_background": "light"
          }
        }
      ],
      "source": [
        "res = main(iis_loader, {\n",
        "    'gamma=1e5,lr=3e-6': partial(_pipeline, weights=omega_ones, grad_steps=4, gamma=1e5, lr=3e-6),\n",
        "    'gamma=1e5,lr=1e-5': partial(_pipeline, weights=omega_ones, grad_steps=4, gamma=1e5, lr=1e-5),\n",
        "    'gamma=3e5,lr=1e-5': partial(_pipeline, weights=omega_ones, grad_steps=4, gamma=3e5, lr=1e-5),\n",
        "    'gamma=3e5,lr=3e-5': partial(_pipeline, weights=omega_ones, grad_steps=4, gamma=3e5, lr=3e-5),\n",
        "}, num_batches=30)"
      ]
    },
    {
      "cell_type": "markdown",
      "source": [
        "## MAS weights"
      ],
      "metadata": {
        "id": "RiGW-2BwUC0P"
      }
    },
    {
      "cell_type": "code",
      "source": [
        "res = main(iis_loader, {\n",
        "    'gamma=1e5': partial(_pipeline, weights=omega, grad_steps=4, gamma=1e5),\n",
        "    'gamma=1e6': partial(_pipeline, weights=omega, grad_steps=4, gamma=1e6),\n",
        "    'gamma=1e7': partial(_pipeline, weights=omega, grad_steps=4, gamma=1e7),\n",
        "    'gamma=1e8': partial(_pipeline, weights=omega, grad_steps=4, gamma=1e8),\n",
        "}, num_batches=30)"
      ],
      "metadata": {
        "id": "HE3Y-Co-USHO"
      },
      "execution_count": null,
      "outputs": []
    },
    {
      "cell_type": "code",
      "source": [
        "res = main(iis_loader, {\n",
        "    'gamma=1e7,lr=3e-6': partial(_pipeline, weights=omega, grad_steps=4, gamma=1e7, lr=3e-6),\n",
        "    'gamma=1e7,lr=1e-5': partial(_pipeline, weights=omega, grad_steps=4, gamma=1e7, lr=1e-5),\n",
        "    'gamma=3e7,lr=1e-5': partial(_pipeline, weights=omega, grad_steps=4, gamma=3e7, lr=1e-5),\n",
        "    'gamma=3e7,lr=3e-5': partial(_pipeline, weights=omega, grad_steps=4, gamma=3e7, lr=3e-5),\n",
        "}, num_batches=30)"
      ],
      "metadata": {
        "id": "Alj7465rUFOG"
      },
      "execution_count": null,
      "outputs": []
    },
    {
      "cell_type": "markdown",
      "source": [
        "# Test best setup"
      ],
      "metadata": {
        "id": "ZBZnfX0LUTmm"
      }
    },
    {
      "cell_type": "code",
      "source": [
        "res = main(iis_loader, {\n",
        "    'frozen': partial(_pipeline, weights=omega, grad_steps=0),\n",
        "    'adaptive': partial(_pipeline, weights=omega, grad_steps=4, gamma=1e7, lr=1e-5),\n",
        "}, num_batches=60)"
      ],
      "metadata": {
        "colab": {
          "base_uri": "https://localhost:8080/",
          "height": 733,
          "referenced_widgets": [
            "39f2d71482304beab051003c5e9c66dd",
            "c12fafcc1aae47118669c2ed5bef28e5",
            "c4c09b7d1410437d8c9b73e191c16852",
            "e6b087ac5c104b339d1890cba26642b8",
            "bfc6e98ba32d454f9e493c38c5436987",
            "35ef2b5060dd4d948c9b652bf1391d05",
            "49915fcf5e1e4ce1a537b648db31633c",
            "7c6e0db618a54795ba07483e452c91e8",
            "c7e850533ddc4e198ce848fac961c15c",
            "6b35d5fdae894e4fa92cd635188b2cd6",
            "7ae4241f7e7c4eaea779faf69b48e007"
          ]
        },
        "id": "hP2MStPa9w5f",
        "outputId": "35d83666-1f4a-405c-dafe-b1f93c1c5ffe"
      },
      "execution_count": null,
      "outputs": [
        {
          "output_type": "display_data",
          "data": {
            "text/plain": [
              "  0%|          | 0/60 [00:00<?, ?it/s]"
            ],
            "application/vnd.jupyter.widget-view+json": {
              "version_major": 2,
              "version_minor": 0,
              "model_id": "39f2d71482304beab051003c5e9c66dd"
            }
          },
          "metadata": {}
        },
        {
          "output_type": "stream",
          "name": "stdout",
          "text": [
            "means\n",
            "{'frozen': array([0.        , 0.22050245, 0.33588676, 0.38299535, 0.46886248,\n",
            "       0.51600779, 0.54999839, 0.56805309, 0.60588792, 0.62604835,\n",
            "       0.64118369, 0.676445  , 0.6794464 , 0.6865571 , 0.70504008,\n",
            "       0.72679703, 0.73430844, 0.74953847, 0.75035274, 0.76039214,\n",
            "       0.76951423, 0.77408334, 0.77551674, 0.78906547, 0.79883807,\n",
            "       0.80335903]), 'adaptive': array([0.        , 0.23597067, 0.35727681, 0.38232502, 0.4470503 ,\n",
            "       0.50007464, 0.5492138 , 0.59618055, 0.62948899, 0.66071348,\n",
            "       0.67638343, 0.70168098, 0.71648621, 0.73338163, 0.73961333,\n",
            "       0.75185765, 0.7590843 , 0.77240066, 0.77636041, 0.78067405,\n",
            "       0.79167921, 0.79111801, 0.8019724 , 0.80600558, 0.81242626,\n",
            "       0.81633286])}\n",
            "area under curve\n",
            "{'frozen': 15.582749816977111, 'adaptive': 16.05959945518213}\n",
            "clicks@iou\n",
            "[0.7, 0.75, 0.8, 0.85, 0.9]\n",
            "[{'frozen': 13.15, 'adaptive': 12.366666666666667}, {'frozen': 14.966666666666667, 'adaptive': 14.0}, {'frozen': 17.85, 'adaptive': 16.466666666666665}, {'frozen': 21.016666666666666, 'adaptive': 20.05}, {'frozen': 23.4, 'adaptive': 22.933333333333334}]\n"
          ]
        },
        {
          "output_type": "display_data",
          "data": {
            "text/plain": [
              "<Figure size 720x432 with 1 Axes>"
            ],
            "image/png": "[encoded data removed]"
          },
          "metadata": {
            "needs_background": "light"
          }
        }
      ]
    },
    {
      "cell_type": "code",
      "source": [
        "all_res = res[0]\n",
        "for k in all_res:\n",
        "    all_res[k] = np.stack(all_res[k], axis=1)\n",
        "\n",
        "ks = [10, 15, 20, 25]\n",
        "for k in ks:\n",
        "    diff = all_res['adaptive'][k] - all_res['frozen'][k]\n",
        "    print(k, np.sum(diff > 0) / diff.shape[0])"
      ],
      "metadata": {
        "id": "iBESdDZ_7Gol"
      },
      "execution_count": null,
      "outputs": []
    },
    {
      "cell_type": "code",
      "execution_count": null,
      "metadata": {
        "colab": {
          "base_uri": "https://localhost:8080/"
        },
        "id": "XUyfuQ_EqgdR",
        "outputId": "7efa6f61-e917-473a-aa7f-8b407d58a54c"
      },
      "outputs": [
        {
          "output_type": "stream",
          "name": "stdout",
          "text": [
            "frozen 5 0.516007794936498\n",
            "frozen 10 0.6411836882432301\n",
            "frozen 12 0.6794464007019997\n",
            "frozen 13 0.6865570992231369\n",
            "frozen 15 0.7267970348397891\n",
            "frozen 25 0.8033590326706569\n",
            "adaptive 5 0.5000746386746565\n",
            "adaptive 10 0.676383429268996\n",
            "adaptive 12 0.7164862148463726\n",
            "adaptive 13 0.7333816250165304\n",
            "adaptive 15 0.7518576517701149\n",
            "adaptive 25 0.8163328597942988\n"
          ]
        }
      ],
      "source": [
        "steps = [5, 10, 15, 25]\n",
        "for name in res[1]:\n",
        "    for k in steps:\n",
        "        print(name, k, res[1][name][k])"
      ]
    },
    {
      "cell_type": "markdown",
      "source": [
        "# COCO+LVIS"
      ],
      "metadata": {
        "id": "2xBNup4SUyJ_"
      }
    },
    {
      "cell_type": "markdown",
      "source": [
        "## Acquire data"
      ],
      "metadata": {
        "id": "GytqLi9YVBza"
      }
    },
    {
      "cell_type": "code",
      "source": [
        "%cd /content\n",
        "!wget http://images.cocodataset.org/zips/train2017.zip\n",
        "!wget http://images.cocodataset.org/zips/val2017.zip\n",
        "!wget https://github.com/saic-vul/ritm_interactive_segmentation/releases/download/v1.0/cocolvis_annotation.tar.gz\n",
        "!unzip -qo train2017.zip\n",
        "!unzip -qo val2017.zip\n",
        "!mkdir -p CocoLvis/train\n",
        "!mkdir -p CocoLvis/val\n",
        "!mv train2017 CocoLvis/train/images\n",
        "!mv val2017 CocoLvis/val/images\n",
        "!tar xzf cocolvis_annotation.tar.gz -C CocoLvis"
      ],
      "metadata": {
        "id": "u_DPmcRJVC5Q"
      },
      "execution_count": null,
      "outputs": []
    },
    {
      "cell_type": "markdown",
      "source": [
        "## Instantiate dataset"
      ],
      "metadata": {
        "id": "kRxr-NIiVSLA"
      }
    },
    {
      "cell_type": "code",
      "source": [
        "seg_dataset = CocoLvisDataset(\n",
        "    \"/content/CocoLvis/\", \n",
        "    split=\"val\"\n",
        ")\n",
        "region_selector = random_single\n",
        "augmentator = A.Compose([\n",
        "    A.LongestMaxSize(max_size=350),\n",
        "    A.Normalize(),\n",
        "])\n",
        "iis_dataset = RegionDataset(seg_dataset, region_selector, augmentator)\n",
        "\n",
        "torch.manual_seed(0)\n",
        "pi = torch.randperm(len(iis_dataset))\n",
        "iis_dataset = Subset(iis_dataset, pi)\n",
        "\n",
        "iis_loader = DataLoader(iis_dataset, batch_size=1, num_workers=1, shuffle=False)"
      ],
      "metadata": {
        "id": "Ri0DxKqKVDq7"
      },
      "execution_count": null,
      "outputs": []
    },
    {
      "cell_type": "markdown",
      "source": [
        "## Load MAS weights for param penalty"
      ],
      "metadata": {
        "id": "3-YgJVBZVWXM"
      }
    },
    {
      "cell_type": "code",
      "source": [
        "omega = torch.load('/content/drive/MyDrive/MVA/satellites/omega_bce_coco.pth')\n",
        "_pipeline = partial(pipeline, model_path=model_path, weights=omega, device='cuda', interaction_steps=25)"
      ],
      "metadata": {
        "id": "GzGFq5TwVQp6"
      },
      "execution_count": null,
      "outputs": []
    },
    {
      "cell_type": "markdown",
      "source": [
        "## Test best setup"
      ],
      "metadata": {
        "id": "MlWcx5oGVfVK"
      }
    },
    {
      "cell_type": "code",
      "source": [
        "res = main(iis_loader, {\n",
        "    'frozen': partial(_pipeline, grad_steps=0),\n",
        "    'adaptive': partial(_pipeline, grad_steps=5, gamma=3e4), \n",
        "}, num_batches=100)"
      ],
      "metadata": {
        "id": "VJJFL0b_Ve87"
      },
      "execution_count": null,
      "outputs": []
    },
    {
      "cell_type": "code",
      "source": [
        "steps = [5, 10, 15, 25]\n",
        "for name in res[1]:\n",
        "    for k in steps:\n",
        "        print(name, k, res[1][name][k])"
      ],
      "metadata": {
        "id": "gjgtGXlSWB65"
      },
      "execution_count": null,
      "outputs": []
    }
  ],
  "metadata": {
    "accelerator": "GPU",
    "colab": {
      "collapsed_sections": [
        "R_TfKwUI4zk8",
        "m1qsfrIF9aBW"
      ],
      "name": "iis_exp_aerial.ipynb",
      "provenance": [],
      "toc_visible": true
    },
    "kernelspec": {
      "display_name": "Python 3",
      "name": "python3"
    },
    "language_info": {
      "name": "python"
    },
    "widgets": {
      "application/vnd.jupyter.widget-state+json": {
        "d5a5f20765de41969c613170a610723e": {
          "model_module": "@jupyter-widgets/controls",
          "model_name": "HBoxModel",
          "model_module_version": "1.5.0",
          "state": {
            "_dom_classes": [],
            "_model_module": "@jupyter-widgets/controls",
            "_model_module_version": "1.5.0",
            "_model_name": "HBoxModel",
            "_view_count": null,
            "_view_module": "@jupyter-widgets/controls",
            "_view_module_version": "1.5.0",
            "_view_name": "HBoxView",
            "box_style": "",
            "children": [
              "IPY_MODEL_bc9bcf8d770047faa7ac0f225d428fa3",
              "IPY_MODEL_9b6ba242ae304c0ba213e1df43de6f89",
              "IPY_MODEL_ab1df25915b3473480f1dfb7127d9255"
            ],
            "layout": "IPY_MODEL_41293db2a3af4f689086f561d29c1336"
          }
        },
        "bc9bcf8d770047faa7ac0f225d428fa3": {
          "model_module": "@jupyter-widgets/controls",
          "model_name": "HTMLModel",
          "model_module_version": "1.5.0",
          "state": {
            "_dom_classes": [],
            "_model_module": "@jupyter-widgets/controls",
            "_model_module_version": "1.5.0",
            "_model_name": "HTMLModel",
            "_view_count": null,
            "_view_module": "@jupyter-widgets/controls",
            "_view_module_version": "1.5.0",
            "_view_name": "HTMLView",
            "description": "",
            "description_tooltip": null,
            "layout": "IPY_MODEL_223f584d526046f59bbaa917dc4d684d",
            "placeholder": "​",
            "style": "IPY_MODEL_bf08c0def4714845871fad3909a1d087",
            "value": " 97%"
          }
        },
        "9b6ba242ae304c0ba213e1df43de6f89": {
          "model_module": "@jupyter-widgets/controls",
          "model_name": "FloatProgressModel",
          "model_module_version": "1.5.0",
          "state": {
            "_dom_classes": [],
            "_model_module": "@jupyter-widgets/controls",
            "_model_module_version": "1.5.0",
            "_model_name": "FloatProgressModel",
            "_view_count": null,
            "_view_module": "@jupyter-widgets/controls",
            "_view_module_version": "1.5.0",
            "_view_name": "ProgressView",
            "bar_style": "danger",
            "description": "",
            "description_tooltip": null,
            "layout": "IPY_MODEL_c2d6a82a5506437aa13b6ee7082ad20a",
            "max": 30,
            "min": 0,
            "orientation": "horizontal",
            "style": "IPY_MODEL_3bd7f60af10d4ce7b55afbc286c5cc51",
            "value": 29
          }
        },
        "ab1df25915b3473480f1dfb7127d9255": {
          "model_module": "@jupyter-widgets/controls",
          "model_name": "HTMLModel",
          "model_module_version": "1.5.0",
          "state": {
            "_dom_classes": [],
            "_model_module": "@jupyter-widgets/controls",
            "_model_module_version": "1.5.0",
            "_model_name": "HTMLModel",
            "_view_count": null,
            "_view_module": "@jupyter-widgets/controls",
            "_view_module_version": "1.5.0",
            "_view_name": "HTMLView",
            "description": "",
            "description_tooltip": null,
            "layout": "IPY_MODEL_f144ea08a31a4b12aad735216a1f2a8b",
            "placeholder": "​",
            "style": "IPY_MODEL_2a7e5315d69a43f58942a8415dfb249c",
            "value": " 29/30 [1:05:35&lt;02:10, 130.76s/it]"
          }
        },
        "41293db2a3af4f689086f561d29c1336": {
          "model_module": "@jupyter-widgets/base",
          "model_name": "LayoutModel",
          "model_module_version": "1.2.0",
          "state": {
            "_model_module": "@jupyter-widgets/base",
            "_model_module_version": "1.2.0",
            "_model_name": "LayoutModel",
            "_view_count": null,
            "_view_module": "@jupyter-widgets/base",
            "_view_module_version": "1.2.0",
            "_view_name": "LayoutView",
            "align_content": null,
            "align_items": null,
            "align_self": null,
            "border": null,
            "bottom": null,
            "display": null,
            "flex": null,
            "flex_flow": null,
            "grid_area": null,
            "grid_auto_columns": null,
            "grid_auto_flow": null,
            "grid_auto_rows": null,
            "grid_column": null,
            "grid_gap": null,
            "grid_row": null,
            "grid_template_areas": null,
            "grid_template_columns": null,
            "grid_template_rows": null,
            "height": null,
            "justify_content": null,
            "justify_items": null,
            "left": null,
            "margin": null,
            "max_height": null,
            "max_width": null,
            "min_height": null,
            "min_width": null,
            "object_fit": null,
            "object_position": null,
            "order": null,
            "overflow": null,
            "overflow_x": null,
            "overflow_y": null,
            "padding": null,
            "right": null,
            "top": null,
            "visibility": null,
            "width": null
          }
        },
        "223f584d526046f59bbaa917dc4d684d": {
          "model_module": "@jupyter-widgets/base",
          "model_name": "LayoutModel",
          "model_module_version": "1.2.0",
          "state": {
            "_model_module": "@jupyter-widgets/base",
            "_model_module_version": "1.2.0",
            "_model_name": "LayoutModel",
            "_view_count": null,
            "_view_module": "@jupyter-widgets/base",
            "_view_module_version": "1.2.0",
            "_view_name": "LayoutView",
            "align_content": null,
            "align_items": null,
            "align_self": null,
            "border": null,
            "bottom": null,
            "display": null,
            "flex": null,
            "flex_flow": null,
            "grid_area": null,
            "grid_auto_columns": null,
            "grid_auto_flow": null,
            "grid_auto_rows": null,
            "grid_column": null,
            "grid_gap": null,
            "grid_row": null,
            "grid_template_areas": null,
            "grid_template_columns": null,
            "grid_template_rows": null,
            "height": null,
            "justify_content": null,
            "justify_items": null,
            "left": null,
            "margin": null,
            "max_height": null,
            "max_width": null,
            "min_height": null,
            "min_width": null,
            "object_fit": null,
            "object_position": null,
            "order": null,
            "overflow": null,
            "overflow_x": null,
            "overflow_y": null,
            "padding": null,
            "right": null,
            "top": null,
            "visibility": null,
            "width": null
          }
        },
        "bf08c0def4714845871fad3909a1d087": {
          "model_module": "@jupyter-widgets/controls",
          "model_name": "DescriptionStyleModel",
          "model_module_version": "1.5.0",
          "state": {
            "_model_module": "@jupyter-widgets/controls",
            "_model_module_version": "1.5.0",
            "_model_name": "DescriptionStyleModel",
            "_view_count": null,
            "_view_module": "@jupyter-widgets/base",
            "_view_module_version": "1.2.0",
            "_view_name": "StyleView",
            "description_width": ""
          }
        },
        "c2d6a82a5506437aa13b6ee7082ad20a": {
          "model_module": "@jupyter-widgets/base",
          "model_name": "LayoutModel",
          "model_module_version": "1.2.0",
          "state": {
            "_model_module": "@jupyter-widgets/base",
            "_model_module_version": "1.2.0",
            "_model_name": "LayoutModel",
            "_view_count": null,
            "_view_module": "@jupyter-widgets/base",
            "_view_module_version": "1.2.0",
            "_view_name": "LayoutView",
            "align_content": null,
            "align_items": null,
            "align_self": null,
            "border": null,
            "bottom": null,
            "display": null,
            "flex": null,
            "flex_flow": null,
            "grid_area": null,
            "grid_auto_columns": null,
            "grid_auto_flow": null,
            "grid_auto_rows": null,
            "grid_column": null,
            "grid_gap": null,
            "grid_row": null,
            "grid_template_areas": null,
            "grid_template_columns": null,
            "grid_template_rows": null,
            "height": null,
            "justify_content": null,
            "justify_items": null,
            "left": null,
            "margin": null,
            "max_height": null,
            "max_width": null,
            "min_height": null,
            "min_width": null,
            "object_fit": null,
            "object_position": null,
            "order": null,
            "overflow": null,
            "overflow_x": null,
            "overflow_y": null,
            "padding": null,
            "right": null,
            "top": null,
            "visibility": null,
            "width": null
          }
        },
        "3bd7f60af10d4ce7b55afbc286c5cc51": {
          "model_module": "@jupyter-widgets/controls",
          "model_name": "ProgressStyleModel",
          "model_module_version": "1.5.0",
          "state": {
            "_model_module": "@jupyter-widgets/controls",
            "_model_module_version": "1.5.0",
            "_model_name": "ProgressStyleModel",
            "_view_count": null,
            "_view_module": "@jupyter-widgets/base",
            "_view_module_version": "1.2.0",
            "_view_name": "StyleView",
            "bar_color": null,
            "description_width": ""
          }
        },
        "f144ea08a31a4b12aad735216a1f2a8b": {
          "model_module": "@jupyter-widgets/base",
          "model_name": "LayoutModel",
          "model_module_version": "1.2.0",
          "state": {
            "_model_module": "@jupyter-widgets/base",
            "_model_module_version": "1.2.0",
            "_model_name": "LayoutModel",
            "_view_count": null,
            "_view_module": "@jupyter-widgets/base",
            "_view_module_version": "1.2.0",
            "_view_name": "LayoutView",
            "align_content": null,
            "align_items": null,
            "align_self": null,
            "border": null,
            "bottom": null,
            "display": null,
            "flex": null,
            "flex_flow": null,
            "grid_area": null,
            "grid_auto_columns": null,
            "grid_auto_flow": null,
            "grid_auto_rows": null,
            "grid_column": null,
            "grid_gap": null,
            "grid_row": null,
            "grid_template_areas": null,
            "grid_template_columns": null,
            "grid_template_rows": null,
            "height": null,
            "justify_content": null,
            "justify_items": null,
            "left": null,
            "margin": null,
            "max_height": null,
            "max_width": null,
            "min_height": null,
            "min_width": null,
            "object_fit": null,
            "object_position": null,
            "order": null,
            "overflow": null,
            "overflow_x": null,
            "overflow_y": null,
            "padding": null,
            "right": null,
            "top": null,
            "visibility": null,
            "width": null
          }
        },
        "2a7e5315d69a43f58942a8415dfb249c": {
          "model_module": "@jupyter-widgets/controls",
          "model_name": "DescriptionStyleModel",
          "model_module_version": "1.5.0",
          "state": {
            "_model_module": "@jupyter-widgets/controls",
            "_model_module_version": "1.5.0",
            "_model_name": "DescriptionStyleModel",
            "_view_count": null,
            "_view_module": "@jupyter-widgets/base",
            "_view_module_version": "1.2.0",
            "_view_name": "StyleView",
            "description_width": ""
          }
        },
        "5be36b4d654d40218a210ed40d9e1c9b": {
          "model_module": "@jupyter-widgets/controls",
          "model_name": "HBoxModel",
          "model_module_version": "1.5.0",
          "state": {
            "_dom_classes": [],
            "_model_module": "@jupyter-widgets/controls",
            "_model_module_version": "1.5.0",
            "_model_name": "HBoxModel",
            "_view_count": null,
            "_view_module": "@jupyter-widgets/controls",
            "_view_module_version": "1.5.0",
            "_view_name": "HBoxView",
            "box_style": "",
            "children": [
              "IPY_MODEL_54d02492911946d4bd1837e7b2ee2ab5",
              "IPY_MODEL_3099484a68cf4093af74feeec254be92",
              "IPY_MODEL_6fb51a0e8cae49c198926d09ab970204"
            ],
            "layout": "IPY_MODEL_ab1b3ff8bcbf4e70be6fccfc6cd58115"
          }
        },
        "54d02492911946d4bd1837e7b2ee2ab5": {
          "model_module": "@jupyter-widgets/controls",
          "model_name": "HTMLModel",
          "model_module_version": "1.5.0",
          "state": {
            "_dom_classes": [],
            "_model_module": "@jupyter-widgets/controls",
            "_model_module_version": "1.5.0",
            "_model_name": "HTMLModel",
            "_view_count": null,
            "_view_module": "@jupyter-widgets/controls",
            "_view_module_version": "1.5.0",
            "_view_name": "HTMLView",
            "description": "",
            "description_tooltip": null,
            "layout": "IPY_MODEL_30e51490e4e443e7b135b9c71b366f01",
            "placeholder": "​",
            "style": "IPY_MODEL_a4046aabf8e24298a592882df742e84a",
            "value": " 97%"
          }
        },
        "3099484a68cf4093af74feeec254be92": {
          "model_module": "@jupyter-widgets/controls",
          "model_name": "FloatProgressModel",
          "model_module_version": "1.5.0",
          "state": {
            "_dom_classes": [],
            "_model_module": "@jupyter-widgets/controls",
            "_model_module_version": "1.5.0",
            "_model_name": "FloatProgressModel",
            "_view_count": null,
            "_view_module": "@jupyter-widgets/controls",
            "_view_module_version": "1.5.0",
            "_view_name": "ProgressView",
            "bar_style": "danger",
            "description": "",
            "description_tooltip": null,
            "layout": "IPY_MODEL_ea408b8966c94765bbb55aca9099bebe",
            "max": 30,
            "min": 0,
            "orientation": "horizontal",
            "style": "IPY_MODEL_695e807941024e8da1a72cb5add045d4",
            "value": 29
          }
        },
        "6fb51a0e8cae49c198926d09ab970204": {
          "model_module": "@jupyter-widgets/controls",
          "model_name": "HTMLModel",
          "model_module_version": "1.5.0",
          "state": {
            "_dom_classes": [],
            "_model_module": "@jupyter-widgets/controls",
            "_model_module_version": "1.5.0",
            "_model_name": "HTMLModel",
            "_view_count": null,
            "_view_module": "@jupyter-widgets/controls",
            "_view_module_version": "1.5.0",
            "_view_name": "HTMLView",
            "description": "",
            "description_tooltip": null,
            "layout": "IPY_MODEL_72859a75dedd40d7baa60917509c1ec9",
            "placeholder": "​",
            "style": "IPY_MODEL_41bb6e3fe291476ebea85c818cd18cdd",
            "value": " 29/30 [1:04:50&lt;02:09, 129.41s/it]"
          }
        },
        "ab1b3ff8bcbf4e70be6fccfc6cd58115": {
          "model_module": "@jupyter-widgets/base",
          "model_name": "LayoutModel",
          "model_module_version": "1.2.0",
          "state": {
            "_model_module": "@jupyter-widgets/base",
            "_model_module_version": "1.2.0",
            "_model_name": "LayoutModel",
            "_view_count": null,
            "_view_module": "@jupyter-widgets/base",
            "_view_module_version": "1.2.0",
            "_view_name": "LayoutView",
            "align_content": null,
            "align_items": null,
            "align_self": null,
            "border": null,
            "bottom": null,
            "display": null,
            "flex": null,
            "flex_flow": null,
            "grid_area": null,
            "grid_auto_columns": null,
            "grid_auto_flow": null,
            "grid_auto_rows": null,
            "grid_column": null,
            "grid_gap": null,
            "grid_row": null,
            "grid_template_areas": null,
            "grid_template_columns": null,
            "grid_template_rows": null,
            "height": null,
            "justify_content": null,
            "justify_items": null,
            "left": null,
            "margin": null,
            "max_height": null,
            "max_width": null,
            "min_height": null,
            "min_width": null,
            "object_fit": null,
            "object_position": null,
            "order": null,
            "overflow": null,
            "overflow_x": null,
            "overflow_y": null,
            "padding": null,
            "right": null,
            "top": null,
            "visibility": null,
            "width": null
          }
        },
        "30e51490e4e443e7b135b9c71b366f01": {
          "model_module": "@jupyter-widgets/base",
          "model_name": "LayoutModel",
          "model_module_version": "1.2.0",
          "state": {
            "_model_module": "@jupyter-widgets/base",
            "_model_module_version": "1.2.0",
            "_model_name": "LayoutModel",
            "_view_count": null,
            "_view_module": "@jupyter-widgets/base",
            "_view_module_version": "1.2.0",
            "_view_name": "LayoutView",
            "align_content": null,
            "align_items": null,
            "align_self": null,
            "border": null,
            "bottom": null,
            "display": null,
            "flex": null,
            "flex_flow": null,
            "grid_area": null,
            "grid_auto_columns": null,
            "grid_auto_flow": null,
            "grid_auto_rows": null,
            "grid_column": null,
            "grid_gap": null,
            "grid_row": null,
            "grid_template_areas": null,
            "grid_template_columns": null,
            "grid_template_rows": null,
            "height": null,
            "justify_content": null,
            "justify_items": null,
            "left": null,
            "margin": null,
            "max_height": null,
            "max_width": null,
            "min_height": null,
            "min_width": null,
            "object_fit": null,
            "object_position": null,
            "order": null,
            "overflow": null,
            "overflow_x": null,
            "overflow_y": null,
            "padding": null,
            "right": null,
            "top": null,
            "visibility": null,
            "width": null
          }
        },
        "a4046aabf8e24298a592882df742e84a": {
          "model_module": "@jupyter-widgets/controls",
          "model_name": "DescriptionStyleModel",
          "model_module_version": "1.5.0",
          "state": {
            "_model_module": "@jupyter-widgets/controls",
            "_model_module_version": "1.5.0",
            "_model_name": "DescriptionStyleModel",
            "_view_count": null,
            "_view_module": "@jupyter-widgets/base",
            "_view_module_version": "1.2.0",
            "_view_name": "StyleView",
            "description_width": ""
          }
        },
        "ea408b8966c94765bbb55aca9099bebe": {
          "model_module": "@jupyter-widgets/base",
          "model_name": "LayoutModel",
          "model_module_version": "1.2.0",
          "state": {
            "_model_module": "@jupyter-widgets/base",
            "_model_module_version": "1.2.0",
            "_model_name": "LayoutModel",
            "_view_count": null,
            "_view_module": "@jupyter-widgets/base",
            "_view_module_version": "1.2.0",
            "_view_name": "LayoutView",
            "align_content": null,
            "align_items": null,
            "align_self": null,
            "border": null,
            "bottom": null,
            "display": null,
            "flex": null,
            "flex_flow": null,
            "grid_area": null,
            "grid_auto_columns": null,
            "grid_auto_flow": null,
            "grid_auto_rows": null,
            "grid_column": null,
            "grid_gap": null,
            "grid_row": null,
            "grid_template_areas": null,
            "grid_template_columns": null,
            "grid_template_rows": null,
            "height": null,
            "justify_content": null,
            "justify_items": null,
            "left": null,
            "margin": null,
            "max_height": null,
            "max_width": null,
            "min_height": null,
            "min_width": null,
            "object_fit": null,
            "object_position": null,
            "order": null,
            "overflow": null,
            "overflow_x": null,
            "overflow_y": null,
            "padding": null,
            "right": null,
            "top": null,
            "visibility": null,
            "width": null
          }
        },
        "695e807941024e8da1a72cb5add045d4": {
          "model_module": "@jupyter-widgets/controls",
          "model_name": "ProgressStyleModel",
          "model_module_version": "1.5.0",
          "state": {
            "_model_module": "@jupyter-widgets/controls",
            "_model_module_version": "1.5.0",
            "_model_name": "ProgressStyleModel",
            "_view_count": null,
            "_view_module": "@jupyter-widgets/base",
            "_view_module_version": "1.2.0",
            "_view_name": "StyleView",
            "bar_color": null,
            "description_width": ""
          }
        },
        "72859a75dedd40d7baa60917509c1ec9": {
          "model_module": "@jupyter-widgets/base",
          "model_name": "LayoutModel",
          "model_module_version": "1.2.0",
          "state": {
            "_model_module": "@jupyter-widgets/base",
            "_model_module_version": "1.2.0",
            "_model_name": "LayoutModel",
            "_view_count": null,
            "_view_module": "@jupyter-widgets/base",
            "_view_module_version": "1.2.0",
            "_view_name": "LayoutView",
            "align_content": null,
            "align_items": null,
            "align_self": null,
            "border": null,
            "bottom": null,
            "display": null,
            "flex": null,
            "flex_flow": null,
            "grid_area": null,
            "grid_auto_columns": null,
            "grid_auto_flow": null,
            "grid_auto_rows": null,
            "grid_column": null,
            "grid_gap": null,
            "grid_row": null,
            "grid_template_areas": null,
            "grid_template_columns": null,
            "grid_template_rows": null,
            "height": null,
            "justify_content": null,
            "justify_items": null,
            "left": null,
            "margin": null,
            "max_height": null,
            "max_width": null,
            "min_height": null,
            "min_width": null,
            "object_fit": null,
            "object_position": null,
            "order": null,
            "overflow": null,
            "overflow_x": null,
            "overflow_y": null,
            "padding": null,
            "right": null,
            "top": null,
            "visibility": null,
            "width": null
          }
        },
        "41bb6e3fe291476ebea85c818cd18cdd": {
          "model_module": "@jupyter-widgets/controls",
          "model_name": "DescriptionStyleModel",
          "model_module_version": "1.5.0",
          "state": {
            "_model_module": "@jupyter-widgets/controls",
            "_model_module_version": "1.5.0",
            "_model_name": "DescriptionStyleModel",
            "_view_count": null,
            "_view_module": "@jupyter-widgets/base",
            "_view_module_version": "1.2.0",
            "_view_name": "StyleView",
            "description_width": ""
          }
        },
        "39f2d71482304beab051003c5e9c66dd": {
          "model_module": "@jupyter-widgets/controls",
          "model_name": "HBoxModel",
          "model_module_version": "1.5.0",
          "state": {
            "_dom_classes": [],
            "_model_module": "@jupyter-widgets/controls",
            "_model_module_version": "1.5.0",
            "_model_name": "HBoxModel",
            "_view_count": null,
            "_view_module": "@jupyter-widgets/controls",
            "_view_module_version": "1.5.0",
            "_view_name": "HBoxView",
            "box_style": "",
            "children": [
              "IPY_MODEL_c12fafcc1aae47118669c2ed5bef28e5",
              "IPY_MODEL_c4c09b7d1410437d8c9b73e191c16852",
              "IPY_MODEL_e6b087ac5c104b339d1890cba26642b8"
            ],
            "layout": "IPY_MODEL_bfc6e98ba32d454f9e493c38c5436987"
          }
        },
        "c12fafcc1aae47118669c2ed5bef28e5": {
          "model_module": "@jupyter-widgets/controls",
          "model_name": "HTMLModel",
          "model_module_version": "1.5.0",
          "state": {
            "_dom_classes": [],
            "_model_module": "@jupyter-widgets/controls",
            "_model_module_version": "1.5.0",
            "_model_name": "HTMLModel",
            "_view_count": null,
            "_view_module": "@jupyter-widgets/controls",
            "_view_module_version": "1.5.0",
            "_view_name": "HTMLView",
            "description": "",
            "description_tooltip": null,
            "layout": "IPY_MODEL_35ef2b5060dd4d948c9b652bf1391d05",
            "placeholder": "​",
            "style": "IPY_MODEL_49915fcf5e1e4ce1a537b648db31633c",
            "value": " 98%"
          }
        },
        "c4c09b7d1410437d8c9b73e191c16852": {
          "model_module": "@jupyter-widgets/controls",
          "model_name": "FloatProgressModel",
          "model_module_version": "1.5.0",
          "state": {
            "_dom_classes": [],
            "_model_module": "@jupyter-widgets/controls",
            "_model_module_version": "1.5.0",
            "_model_name": "FloatProgressModel",
            "_view_count": null,
            "_view_module": "@jupyter-widgets/controls",
            "_view_module_version": "1.5.0",
            "_view_name": "ProgressView",
            "bar_style": "danger",
            "description": "",
            "description_tooltip": null,
            "layout": "IPY_MODEL_7c6e0db618a54795ba07483e452c91e8",
            "max": 60,
            "min": 0,
            "orientation": "horizontal",
            "style": "IPY_MODEL_c7e850533ddc4e198ce848fac961c15c",
            "value": 59
          }
        },
        "e6b087ac5c104b339d1890cba26642b8": {
          "model_module": "@jupyter-widgets/controls",
          "model_name": "HTMLModel",
          "model_module_version": "1.5.0",
          "state": {
            "_dom_classes": [],
            "_model_module": "@jupyter-widgets/controls",
            "_model_module_version": "1.5.0",
            "_model_name": "HTMLModel",
            "_view_count": null,
            "_view_module": "@jupyter-widgets/controls",
            "_view_module_version": "1.5.0",
            "_view_name": "HTMLView",
            "description": "",
            "description_tooltip": null,
            "layout": "IPY_MODEL_6b35d5fdae894e4fa92cd635188b2cd6",
            "placeholder": "​",
            "style": "IPY_MODEL_7ae4241f7e7c4eaea779faf69b48e007",
            "value": " 59/60 [39:03&lt;00:38, 38.72s/it]"
          }
        },
        "bfc6e98ba32d454f9e493c38c5436987": {
          "model_module": "@jupyter-widgets/base",
          "model_name": "LayoutModel",
          "model_module_version": "1.2.0",
          "state": {
            "_model_module": "@jupyter-widgets/base",
            "_model_module_version": "1.2.0",
            "_model_name": "LayoutModel",
            "_view_count": null,
            "_view_module": "@jupyter-widgets/base",
            "_view_module_version": "1.2.0",
            "_view_name": "LayoutView",
            "align_content": null,
            "align_items": null,
            "align_self": null,
            "border": null,
            "bottom": null,
            "display": null,
            "flex": null,
            "flex_flow": null,
            "grid_area": null,
            "grid_auto_columns": null,
            "grid_auto_flow": null,
            "grid_auto_rows": null,
            "grid_column": null,
            "grid_gap": null,
            "grid_row": null,
            "grid_template_areas": null,
            "grid_template_columns": null,
            "grid_template_rows": null,
            "height": null,
            "justify_content": null,
            "justify_items": null,
            "left": null,
            "margin": null,
            "max_height": null,
            "max_width": null,
            "min_height": null,
            "min_width": null,
            "object_fit": null,
            "object_position": null,
            "order": null,
            "overflow": null,
            "overflow_x": null,
            "overflow_y": null,
            "padding": null,
            "right": null,
            "top": null,
            "visibility": null,
            "width": null
          }
        },
        "35ef2b5060dd4d948c9b652bf1391d05": {
          "model_module": "@jupyter-widgets/base",
          "model_name": "LayoutModel",
          "model_module_version": "1.2.0",
          "state": {
            "_model_module": "@jupyter-widgets/base",
            "_model_module_version": "1.2.0",
            "_model_name": "LayoutModel",
            "_view_count": null,
            "_view_module": "@jupyter-widgets/base",
            "_view_module_version": "1.2.0",
            "_view_name": "LayoutView",
            "align_content": null,
            "align_items": null,
            "align_self": null,
            "border": null,
            "bottom": null,
            "display": null,
            "flex": null,
            "flex_flow": null,
            "grid_area": null,
            "grid_auto_columns": null,
            "grid_auto_flow": null,
            "grid_auto_rows": null,
            "grid_column": null,
            "grid_gap": null,
            "grid_row": null,
            "grid_template_areas": null,
            "grid_template_columns": null,
            "grid_template_rows": null,
            "height": null,
            "justify_content": null,
            "justify_items": null,
            "left": null,
            "margin": null,
            "max_height": null,
            "max_width": null,
            "min_height": null,
            "min_width": null,
            "object_fit": null,
            "object_position": null,
            "order": null,
            "overflow": null,
            "overflow_x": null,
            "overflow_y": null,
            "padding": null,
            "right": null,
            "top": null,
            "visibility": null,
            "width": null
          }
        },
        "49915fcf5e1e4ce1a537b648db31633c": {
          "model_module": "@jupyter-widgets/controls",
          "model_name": "DescriptionStyleModel",
          "model_module_version": "1.5.0",
          "state": {
            "_model_module": "@jupyter-widgets/controls",
            "_model_module_version": "1.5.0",
            "_model_name": "DescriptionStyleModel",
            "_view_count": null,
            "_view_module": "@jupyter-widgets/base",
            "_view_module_version": "1.2.0",
            "_view_name": "StyleView",
            "description_width": ""
          }
        },
        "7c6e0db618a54795ba07483e452c91e8": {
          "model_module": "@jupyter-widgets/base",
          "model_name": "LayoutModel",
          "model_module_version": "1.2.0",
          "state": {
            "_model_module": "@jupyter-widgets/base",
            "_model_module_version": "1.2.0",
            "_model_name": "LayoutModel",
            "_view_count": null,
            "_view_module": "@jupyter-widgets/base",
            "_view_module_version": "1.2.0",
            "_view_name": "LayoutView",
            "align_content": null,
            "align_items": null,
            "align_self": null,
            "border": null,
            "bottom": null,
            "display": null,
            "flex": null,
            "flex_flow": null,
            "grid_area": null,
            "grid_auto_columns": null,
            "grid_auto_flow": null,
            "grid_auto_rows": null,
            "grid_column": null,
            "grid_gap": null,
            "grid_row": null,
            "grid_template_areas": null,
            "grid_template_columns": null,
            "grid_template_rows": null,
            "height": null,
            "justify_content": null,
            "justify_items": null,
            "left": null,
            "margin": null,
            "max_height": null,
            "max_width": null,
            "min_height": null,
            "min_width": null,
            "object_fit": null,
            "object_position": null,
            "order": null,
            "overflow": null,
            "overflow_x": null,
            "overflow_y": null,
            "padding": null,
            "right": null,
            "top": null,
            "visibility": null,
            "width": null
          }
        },
        "c7e850533ddc4e198ce848fac961c15c": {
          "model_module": "@jupyter-widgets/controls",
          "model_name": "ProgressStyleModel",
          "model_module_version": "1.5.0",
          "state": {
            "_model_module": "@jupyter-widgets/controls",
            "_model_module_version": "1.5.0",
            "_model_name": "ProgressStyleModel",
            "_view_count": null,
            "_view_module": "@jupyter-widgets/base",
            "_view_module_version": "1.2.0",
            "_view_name": "StyleView",
            "bar_color": null,
            "description_width": ""
          }
        },
        "6b35d5fdae894e4fa92cd635188b2cd6": {
          "model_module": "@jupyter-widgets/base",
          "model_name": "LayoutModel",
          "model_module_version": "1.2.0",
          "state": {
            "_model_module": "@jupyter-widgets/base",
            "_model_module_version": "1.2.0",
            "_model_name": "LayoutModel",
            "_view_count": null,
            "_view_module": "@jupyter-widgets/base",
            "_view_module_version": "1.2.0",
            "_view_name": "LayoutView",
            "align_content": null,
            "align_items": null,
            "align_self": null,
            "border": null,
            "bottom": null,
            "display": null,
            "flex": null,
            "flex_flow": null,
            "grid_area": null,
            "grid_auto_columns": null,
            "grid_auto_flow": null,
            "grid_auto_rows": null,
            "grid_column": null,
            "grid_gap": null,
            "grid_row": null,
            "grid_template_areas": null,
            "grid_template_columns": null,
            "grid_template_rows": null,
            "height": null,
            "justify_content": null,
            "justify_items": null,
            "left": null,
            "margin": null,
            "max_height": null,
            "max_width": null,
            "min_height": null,
            "min_width": null,
            "object_fit": null,
            "object_position": null,
            "order": null,
            "overflow": null,
            "overflow_x": null,
            "overflow_y": null,
            "padding": null,
            "right": null,
            "top": null,
            "visibility": null,
            "width": null
          }
        },
        "7ae4241f7e7c4eaea779faf69b48e007": {
          "model_module": "@jupyter-widgets/controls",
          "model_name": "DescriptionStyleModel",
          "model_module_version": "1.5.0",
          "state": {
            "_model_module": "@jupyter-widgets/controls",
            "_model_module_version": "1.5.0",
            "_model_name": "DescriptionStyleModel",
            "_view_count": null,
            "_view_module": "@jupyter-widgets/base",
            "_view_module_version": "1.2.0",
            "_view_name": "StyleView",
            "description_width": ""
          }
        }
      }
    }
  },
  "nbformat": 4,
  "nbformat_minor": 0
}